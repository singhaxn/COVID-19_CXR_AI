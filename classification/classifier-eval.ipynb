{
 "cells": [
  {
   "cell_type": "code",
   "execution_count": 1,
   "metadata": {},
   "outputs": [],
   "source": [
    "from fastai import *\n",
    "from fastai.vision.all import *\n",
    "from fastai.vision.core import *\n",
    "import torch\n",
    "from pathlib import Path\n",
    "import numpy as np\n",
    "import os\n",
    "import sys\n",
    "import shutil\n",
    "import re\n",
    "import gc\n",
    "import pandas as pd\n",
    "from sklearn.metrics import confusion_matrix\n",
    "from classifier_common import *"
   ]
  },
  {
   "cell_type": "code",
   "execution_count": 2,
   "metadata": {},
   "outputs": [
    {
     "data": {
      "text/html": [
       "<div>\n",
       "<style scoped>\n",
       "    .dataframe tbody tr th:only-of-type {\n",
       "        vertical-align: middle;\n",
       "    }\n",
       "\n",
       "    .dataframe tbody tr th {\n",
       "        vertical-align: top;\n",
       "    }\n",
       "\n",
       "    .dataframe thead th {\n",
       "        text-align: right;\n",
       "    }\n",
       "</style>\n",
       "<table border=\"1\" class=\"dataframe\">\n",
       "  <thead>\n",
       "    <tr style=\"text-align: right;\">\n",
       "      <th></th>\n",
       "      <th>x</th>\n",
       "      <th>y</th>\n",
       "      <th>width</th>\n",
       "      <th>height</th>\n",
       "      <th>confidence</th>\n",
       "      <th>class</th>\n",
       "    </tr>\n",
       "    <tr>\n",
       "      <th>file</th>\n",
       "      <th></th>\n",
       "      <th></th>\n",
       "      <th></th>\n",
       "      <th></th>\n",
       "      <th></th>\n",
       "      <th></th>\n",
       "    </tr>\n",
       "  </thead>\n",
       "  <tbody>\n",
       "    <tr>\n",
       "      <th>/data/datasets/extended_v2_Masked/train/Pneumonia/SARS-10.1148rg.242035193-g04mr34g0-Fig8a-day0.jpeg</th>\n",
       "      <td>0</td>\n",
       "      <td>59</td>\n",
       "      <td>1692</td>\n",
       "      <td>1355</td>\n",
       "      <td>0.941239</td>\n",
       "      <td>Pneumonia</td>\n",
       "    </tr>\n",
       "    <tr>\n",
       "      <th>/data/datasets/extended_v2_Masked/train/Pneumonia/SARS-10.1148rg.242035193-g04mr34g0-Fig8b-day5.jpeg</th>\n",
       "      <td>0</td>\n",
       "      <td>0</td>\n",
       "      <td>1800</td>\n",
       "      <td>1518</td>\n",
       "      <td>0.940427</td>\n",
       "      <td>Pneumonia</td>\n",
       "    </tr>\n",
       "    <tr>\n",
       "      <th>/data/datasets/extended_v2_Masked/train/Pneumonia/SARS-10.1148rg.242035193-g04mr34g0-Fig8c-day10.jpeg</th>\n",
       "      <td>0</td>\n",
       "      <td>20</td>\n",
       "      <td>1783</td>\n",
       "      <td>1318</td>\n",
       "      <td>0.909923</td>\n",
       "      <td>Pneumonia</td>\n",
       "    </tr>\n",
       "    <tr>\n",
       "      <th>/data/datasets/extended_v2_Masked/train/Pneumonia/SARS-10.1148rg.242035193-g04mr34g04a-Fig4a-day7.jpeg</th>\n",
       "      <td>0</td>\n",
       "      <td>32</td>\n",
       "      <td>1772</td>\n",
       "      <td>1735</td>\n",
       "      <td>0.974390</td>\n",
       "      <td>Pneumonia</td>\n",
       "    </tr>\n",
       "    <tr>\n",
       "      <th>/data/datasets/extended_v2_Masked/train/Pneumonia/SARS-10.1148rg.242035193-g04mr34g04b-Fig4b-day12.jpeg</th>\n",
       "      <td>0</td>\n",
       "      <td>7</td>\n",
       "      <td>1708</td>\n",
       "      <td>1702</td>\n",
       "      <td>0.977359</td>\n",
       "      <td>Pneumonia</td>\n",
       "    </tr>\n",
       "    <tr>\n",
       "      <th>...</th>\n",
       "      <td>...</td>\n",
       "      <td>...</td>\n",
       "      <td>...</td>\n",
       "      <td>...</td>\n",
       "      <td>...</td>\n",
       "      <td>...</td>\n",
       "    </tr>\n",
       "    <tr>\n",
       "      <th>/data/datasets/extended_v2_Masked/evaluate/COVID-19/COVID-19-AR-16434409_01.png</th>\n",
       "      <td>356</td>\n",
       "      <td>422</td>\n",
       "      <td>2268</td>\n",
       "      <td>2002</td>\n",
       "      <td>0.934235</td>\n",
       "      <td>COVID-19</td>\n",
       "    </tr>\n",
       "    <tr>\n",
       "      <th>/data/datasets/extended_v2_Masked/evaluate/COVID-19/COVID-19-AR-16434444_01.png</th>\n",
       "      <td>368</td>\n",
       "      <td>322</td>\n",
       "      <td>2312</td>\n",
       "      <td>1851</td>\n",
       "      <td>0.908095</td>\n",
       "      <td>COVID-19</td>\n",
       "    </tr>\n",
       "    <tr>\n",
       "      <th>/data/datasets/extended_v2_Masked/evaluate/COVID-19/COVID-19-AR-16434444_02.png</th>\n",
       "      <td>343</td>\n",
       "      <td>468</td>\n",
       "      <td>2096</td>\n",
       "      <td>1601</td>\n",
       "      <td>0.929042</td>\n",
       "      <td>COVID-19</td>\n",
       "    </tr>\n",
       "    <tr>\n",
       "      <th>/data/datasets/extended_v2_Masked/evaluate/COVID-19/COVID-19-AR-16445122_01.png</th>\n",
       "      <td>546</td>\n",
       "      <td>235</td>\n",
       "      <td>1994</td>\n",
       "      <td>1599</td>\n",
       "      <td>0.935239</td>\n",
       "      <td>COVID-19</td>\n",
       "    </tr>\n",
       "    <tr>\n",
       "      <th>/data/datasets/extended_v2_Masked/evaluate/COVID-19/COVID-19-AR-16445143_01.png</th>\n",
       "      <td>203</td>\n",
       "      <td>176</td>\n",
       "      <td>2198</td>\n",
       "      <td>2069</td>\n",
       "      <td>0.948387</td>\n",
       "      <td>COVID-19</td>\n",
       "    </tr>\n",
       "  </tbody>\n",
       "</table>\n",
       "<p>16278 rows × 6 columns</p>\n",
       "</div>"
      ],
      "text/plain": [
       "                                                                                                           x  \\\n",
       "file                                                                                                           \n",
       "/data/datasets/extended_v2_Masked/train/Pneumonia/SARS-10.1148rg.242035193-g04mr34g0-Fig8a-day0.jpeg       0   \n",
       "/data/datasets/extended_v2_Masked/train/Pneumonia/SARS-10.1148rg.242035193-g04mr34g0-Fig8b-day5.jpeg       0   \n",
       "/data/datasets/extended_v2_Masked/train/Pneumonia/SARS-10.1148rg.242035193-g04mr34g0-Fig8c-day10.jpeg      0   \n",
       "/data/datasets/extended_v2_Masked/train/Pneumonia/SARS-10.1148rg.242035193-g04mr34g04a-Fig4a-day7.jpeg     0   \n",
       "/data/datasets/extended_v2_Masked/train/Pneumonia/SARS-10.1148rg.242035193-g04mr34g04b-Fig4b-day12.jpeg    0   \n",
       "...                                                                                                      ...   \n",
       "/data/datasets/extended_v2_Masked/evaluate/COVID-19/COVID-19-AR-16434409_01.png                          356   \n",
       "/data/datasets/extended_v2_Masked/evaluate/COVID-19/COVID-19-AR-16434444_01.png                          368   \n",
       "/data/datasets/extended_v2_Masked/evaluate/COVID-19/COVID-19-AR-16434444_02.png                          343   \n",
       "/data/datasets/extended_v2_Masked/evaluate/COVID-19/COVID-19-AR-16445122_01.png                          546   \n",
       "/data/datasets/extended_v2_Masked/evaluate/COVID-19/COVID-19-AR-16445143_01.png                          203   \n",
       "\n",
       "                                                                                                           y  \\\n",
       "file                                                                                                           \n",
       "/data/datasets/extended_v2_Masked/train/Pneumonia/SARS-10.1148rg.242035193-g04mr34g0-Fig8a-day0.jpeg      59   \n",
       "/data/datasets/extended_v2_Masked/train/Pneumonia/SARS-10.1148rg.242035193-g04mr34g0-Fig8b-day5.jpeg       0   \n",
       "/data/datasets/extended_v2_Masked/train/Pneumonia/SARS-10.1148rg.242035193-g04mr34g0-Fig8c-day10.jpeg     20   \n",
       "/data/datasets/extended_v2_Masked/train/Pneumonia/SARS-10.1148rg.242035193-g04mr34g04a-Fig4a-day7.jpeg    32   \n",
       "/data/datasets/extended_v2_Masked/train/Pneumonia/SARS-10.1148rg.242035193-g04mr34g04b-Fig4b-day12.jpeg    7   \n",
       "...                                                                                                      ...   \n",
       "/data/datasets/extended_v2_Masked/evaluate/COVID-19/COVID-19-AR-16434409_01.png                          422   \n",
       "/data/datasets/extended_v2_Masked/evaluate/COVID-19/COVID-19-AR-16434444_01.png                          322   \n",
       "/data/datasets/extended_v2_Masked/evaluate/COVID-19/COVID-19-AR-16434444_02.png                          468   \n",
       "/data/datasets/extended_v2_Masked/evaluate/COVID-19/COVID-19-AR-16445122_01.png                          235   \n",
       "/data/datasets/extended_v2_Masked/evaluate/COVID-19/COVID-19-AR-16445143_01.png                          176   \n",
       "\n",
       "                                                                                                         width  \\\n",
       "file                                                                                                             \n",
       "/data/datasets/extended_v2_Masked/train/Pneumonia/SARS-10.1148rg.242035193-g04mr34g0-Fig8a-day0.jpeg      1692   \n",
       "/data/datasets/extended_v2_Masked/train/Pneumonia/SARS-10.1148rg.242035193-g04mr34g0-Fig8b-day5.jpeg      1800   \n",
       "/data/datasets/extended_v2_Masked/train/Pneumonia/SARS-10.1148rg.242035193-g04mr34g0-Fig8c-day10.jpeg     1783   \n",
       "/data/datasets/extended_v2_Masked/train/Pneumonia/SARS-10.1148rg.242035193-g04mr34g04a-Fig4a-day7.jpeg    1772   \n",
       "/data/datasets/extended_v2_Masked/train/Pneumonia/SARS-10.1148rg.242035193-g04mr34g04b-Fig4b-day12.jpeg   1708   \n",
       "...                                                                                                        ...   \n",
       "/data/datasets/extended_v2_Masked/evaluate/COVID-19/COVID-19-AR-16434409_01.png                           2268   \n",
       "/data/datasets/extended_v2_Masked/evaluate/COVID-19/COVID-19-AR-16434444_01.png                           2312   \n",
       "/data/datasets/extended_v2_Masked/evaluate/COVID-19/COVID-19-AR-16434444_02.png                           2096   \n",
       "/data/datasets/extended_v2_Masked/evaluate/COVID-19/COVID-19-AR-16445122_01.png                           1994   \n",
       "/data/datasets/extended_v2_Masked/evaluate/COVID-19/COVID-19-AR-16445143_01.png                           2198   \n",
       "\n",
       "                                                                                                         height  \\\n",
       "file                                                                                                              \n",
       "/data/datasets/extended_v2_Masked/train/Pneumonia/SARS-10.1148rg.242035193-g04mr34g0-Fig8a-day0.jpeg       1355   \n",
       "/data/datasets/extended_v2_Masked/train/Pneumonia/SARS-10.1148rg.242035193-g04mr34g0-Fig8b-day5.jpeg       1518   \n",
       "/data/datasets/extended_v2_Masked/train/Pneumonia/SARS-10.1148rg.242035193-g04mr34g0-Fig8c-day10.jpeg      1318   \n",
       "/data/datasets/extended_v2_Masked/train/Pneumonia/SARS-10.1148rg.242035193-g04mr34g04a-Fig4a-day7.jpeg     1735   \n",
       "/data/datasets/extended_v2_Masked/train/Pneumonia/SARS-10.1148rg.242035193-g04mr34g04b-Fig4b-day12.jpeg    1702   \n",
       "...                                                                                                         ...   \n",
       "/data/datasets/extended_v2_Masked/evaluate/COVID-19/COVID-19-AR-16434409_01.png                            2002   \n",
       "/data/datasets/extended_v2_Masked/evaluate/COVID-19/COVID-19-AR-16434444_01.png                            1851   \n",
       "/data/datasets/extended_v2_Masked/evaluate/COVID-19/COVID-19-AR-16434444_02.png                            1601   \n",
       "/data/datasets/extended_v2_Masked/evaluate/COVID-19/COVID-19-AR-16445122_01.png                            1599   \n",
       "/data/datasets/extended_v2_Masked/evaluate/COVID-19/COVID-19-AR-16445143_01.png                            2069   \n",
       "\n",
       "                                                                                                         confidence  \\\n",
       "file                                                                                                                  \n",
       "/data/datasets/extended_v2_Masked/train/Pneumonia/SARS-10.1148rg.242035193-g04mr34g0-Fig8a-day0.jpeg       0.941239   \n",
       "/data/datasets/extended_v2_Masked/train/Pneumonia/SARS-10.1148rg.242035193-g04mr34g0-Fig8b-day5.jpeg       0.940427   \n",
       "/data/datasets/extended_v2_Masked/train/Pneumonia/SARS-10.1148rg.242035193-g04mr34g0-Fig8c-day10.jpeg      0.909923   \n",
       "/data/datasets/extended_v2_Masked/train/Pneumonia/SARS-10.1148rg.242035193-g04mr34g04a-Fig4a-day7.jpeg     0.974390   \n",
       "/data/datasets/extended_v2_Masked/train/Pneumonia/SARS-10.1148rg.242035193-g04mr34g04b-Fig4b-day12.jpeg    0.977359   \n",
       "...                                                                                                             ...   \n",
       "/data/datasets/extended_v2_Masked/evaluate/COVID-19/COVID-19-AR-16434409_01.png                            0.934235   \n",
       "/data/datasets/extended_v2_Masked/evaluate/COVID-19/COVID-19-AR-16434444_01.png                            0.908095   \n",
       "/data/datasets/extended_v2_Masked/evaluate/COVID-19/COVID-19-AR-16434444_02.png                            0.929042   \n",
       "/data/datasets/extended_v2_Masked/evaluate/COVID-19/COVID-19-AR-16445122_01.png                            0.935239   \n",
       "/data/datasets/extended_v2_Masked/evaluate/COVID-19/COVID-19-AR-16445143_01.png                            0.948387   \n",
       "\n",
       "                                                                                                             class  \n",
       "file                                                                                                                \n",
       "/data/datasets/extended_v2_Masked/train/Pneumonia/SARS-10.1148rg.242035193-g04mr34g0-Fig8a-day0.jpeg     Pneumonia  \n",
       "/data/datasets/extended_v2_Masked/train/Pneumonia/SARS-10.1148rg.242035193-g04mr34g0-Fig8b-day5.jpeg     Pneumonia  \n",
       "/data/datasets/extended_v2_Masked/train/Pneumonia/SARS-10.1148rg.242035193-g04mr34g0-Fig8c-day10.jpeg    Pneumonia  \n",
       "/data/datasets/extended_v2_Masked/train/Pneumonia/SARS-10.1148rg.242035193-g04mr34g04a-Fig4a-day7.jpeg   Pneumonia  \n",
       "/data/datasets/extended_v2_Masked/train/Pneumonia/SARS-10.1148rg.242035193-g04mr34g04b-Fig4b-day12.jpeg  Pneumonia  \n",
       "...                                                                                                            ...  \n",
       "/data/datasets/extended_v2_Masked/evaluate/COVID-19/COVID-19-AR-16434409_01.png                           COVID-19  \n",
       "/data/datasets/extended_v2_Masked/evaluate/COVID-19/COVID-19-AR-16434444_01.png                           COVID-19  \n",
       "/data/datasets/extended_v2_Masked/evaluate/COVID-19/COVID-19-AR-16434444_02.png                           COVID-19  \n",
       "/data/datasets/extended_v2_Masked/evaluate/COVID-19/COVID-19-AR-16445122_01.png                           COVID-19  \n",
       "/data/datasets/extended_v2_Masked/evaluate/COVID-19/COVID-19-AR-16445143_01.png                           COVID-19  \n",
       "\n",
       "[16278 rows x 6 columns]"
      ]
     },
     "execution_count": 2,
     "metadata": {},
     "output_type": "execute_result"
    }
   ],
   "source": [
    "classifier_model = \"/data/output/pytorch-extended_v2-20201027_02/classifier-model.pkl\"\n",
    "# data_dir = Path(\"/data/datasets/Mendeley_Curated_Masked\")\n",
    "# test_dirs = [data_dir/\"train\"]\n",
    "data_dir = Path(\"/data/datasets/extended_v2_Masked\")\n",
    "test_dirs = [data_dir/\"evaluate\", data_dir/\"test\"]\n",
    "regions_csv = data_dir/\"regions.csv\"\n",
    "regions_df = pd.read_csv(regions_csv, index_col=0, dtype={\"file\": str})\n",
    "regions_df"
   ]
  },
  {
   "cell_type": "code",
   "execution_count": 3,
   "metadata": {},
   "outputs": [],
   "source": [
    "cropper = InputCropper(regions_df, min_confidence=0.875)\n",
    "def get_cropped_image(im_file):\n",
    "    return cropper.get_cropped_image(str(im_file))\n",
    "\n",
    "classifier = load_learner(classifier_model)\n",
    "classifier.freeze()"
   ]
  },
  {
   "cell_type": "code",
   "execution_count": 4,
   "metadata": {},
   "outputs": [
    {
     "data": {
      "text/html": [],
      "text/plain": [
       "<IPython.core.display.HTML object>"
      ]
     },
     "metadata": {},
     "output_type": "display_data"
    },
    {
     "name": "stdout",
     "output_type": "stream",
     "text": [
      "147 / 147\n",
      "/data/datasets/extended_v2_Masked/evaluate\n",
      "[[117   1   0]\n",
      " [  4  25   0]\n",
      " [  0   0   0]]\n"
     ]
    },
    {
     "data": {
      "text/html": [],
      "text/plain": [
       "<IPython.core.display.HTML object>"
      ]
     },
     "metadata": {},
     "output_type": "display_data"
    },
    {
     "name": "stdout",
     "output_type": "stream",
     "text": [
      "256 / 1579\n"
     ]
    },
    {
     "data": {
      "text/html": [],
      "text/plain": [
       "<IPython.core.display.HTML object>"
      ]
     },
     "metadata": {},
     "output_type": "display_data"
    },
    {
     "name": "stdout",
     "output_type": "stream",
     "text": [
      "512 / 1579\n"
     ]
    },
    {
     "data": {
      "text/html": [],
      "text/plain": [
       "<IPython.core.display.HTML object>"
      ]
     },
     "metadata": {},
     "output_type": "display_data"
    },
    {
     "name": "stdout",
     "output_type": "stream",
     "text": [
      "768 / 1579\n"
     ]
    },
    {
     "data": {
      "text/html": [],
      "text/plain": [
       "<IPython.core.display.HTML object>"
      ]
     },
     "metadata": {},
     "output_type": "display_data"
    },
    {
     "name": "stdout",
     "output_type": "stream",
     "text": [
      "1024 / 1579\n"
     ]
    },
    {
     "data": {
      "text/html": [],
      "text/plain": [
       "<IPython.core.display.HTML object>"
      ]
     },
     "metadata": {},
     "output_type": "display_data"
    },
    {
     "name": "stdout",
     "output_type": "stream",
     "text": [
      "1280 / 1579\n"
     ]
    },
    {
     "data": {
      "text/html": [],
      "text/plain": [
       "<IPython.core.display.HTML object>"
      ]
     },
     "metadata": {},
     "output_type": "display_data"
    },
    {
     "name": "stdout",
     "output_type": "stream",
     "text": [
      "1536 / 1579\n"
     ]
    },
    {
     "data": {
      "text/html": [],
      "text/plain": [
       "<IPython.core.display.HTML object>"
      ]
     },
     "metadata": {},
     "output_type": "display_data"
    },
    {
     "name": "stdout",
     "output_type": "stream",
     "text": [
      "1579 / 1579\n",
      "/data/datasets/extended_v2_Masked/test\n",
      "[[ 94   4   2]\n",
      " [  4 863  18]\n",
      " [  5  46 543]]\n"
     ]
    }
   ],
   "source": [
    "reverse_class_map = {v: i for i, v in enumerate(classifier.dls.vocab)}\n",
    "\n",
    "for test_dir in test_dirs:\n",
    "    gc.collect()\n",
    "    test_files = get_image_files(test_dir)\n",
    "    n_files = len(test_files)\n",
    "    step_size = 256\n",
    "    p = []\n",
    "    confidence = []\n",
    "    \n",
    "    for i in range(0, n_files, step_size):\n",
    "        i_end = min(i+step_size, n_files)\n",
    "\n",
    "        xray_files = test_files[i:i_end]\n",
    "        dl = classifier.dls.test_dl(xray_files, bs=64)\n",
    "        preds, _, classes = classifier.get_preds(dl=dl, with_input=False, with_decoded=True)\n",
    "        conf = preds[np.arange(preds.shape[0]), classes]\n",
    "        p.extend(classes.tolist())\n",
    "        confidence.extend(conf.tolist())\n",
    "        \n",
    "        print(f\"{i_end} / {n_files}\")\n",
    "    \n",
    "    y = regions_df.loc[[str(f) for f in test_files]][\"class\"].apply(lambda x: reverse_class_map[x])\n",
    "#     print(y)\n",
    "    print(test_dir)\n",
    "    print(confusion_matrix(y, p, labels=[0,1,2]))"
   ]
  }
 ],
 "metadata": {
  "kernelspec": {
   "display_name": "Python 3",
   "language": "python",
   "name": "python3"
  },
  "language_info": {
   "codemirror_mode": {
    "name": "ipython",
    "version": 3
   },
   "file_extension": ".py",
   "mimetype": "text/x-python",
   "name": "python",
   "nbconvert_exporter": "python",
   "pygments_lexer": "ipython3",
   "version": "3.6.9"
  }
 },
 "nbformat": 4,
 "nbformat_minor": 4
}
