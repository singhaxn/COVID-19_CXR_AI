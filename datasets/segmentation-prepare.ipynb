{
 "cells": [
  {
   "cell_type": "markdown",
   "metadata": {},
   "source": [
    "## Prepare Dataset for Segmentation Training\n",
    "\n",
    "### Data Sources\n",
    "- [NLM Tuberculosis Chest X-ray Image Data Sets](https://lhncbc.nlm.nih.gov/publication/pub9931)\n",
    "- [Shenzhen subset segmentation masks](https://www.kaggle.com/yoctoman/shcxr-lung-mask)\n",
    "- Additional non-public, manually segmented images were used but are not included in this notebook"
   ]
  },
  {
   "cell_type": "code",
   "execution_count": 1,
   "metadata": {},
   "outputs": [],
   "source": [
    "from fastai.vision.all import *\n",
    "import numpy as np\n",
    "import cv2\n",
    "import os\n",
    "import sys\n",
    "import shutil\n",
    "from sklearn.model_selection import train_test_split\n",
    "import re\n",
    "import pandas as pd\n",
    "\n",
    "dataset_dir = f\"/data/datasets/NLM-shenzhen-montgomery/original\""
   ]
  },
  {
   "cell_type": "code",
   "execution_count": 2,
   "metadata": {},
   "outputs": [],
   "source": [
    "shutil.rmtree(dataset_dir, ignore_errors=True)\n",
    "os.makedirs(os.path.join(dataset_dir, \"train\", \"xray\"))\n",
    "os.makedirs(os.path.join(dataset_dir, \"train\", \"mask\"))\n",
    "os.makedirs(os.path.join(dataset_dir, \"test\", \"xray\"))\n",
    "os.makedirs(os.path.join(dataset_dir, \"test\", \"mask\"))\n",
    "\n",
    "def show_img_stats(img):\n",
    "    print(img.shape)\n",
    "    print(np.min(img), np.max(img))\n",
    "    print(np.unique(img))\n",
    "\n",
    "def save_image(image_path, mask, split_dir, out_name, dilate_kernel=None):\n",
    "    mask = np.round(mask / 255.).astype(np.uint8)\n",
    "    if np.max(mask) > 1:\n",
    "        print(image_path, np.unique(mask))\n",
    "    os.link(image_path, os.path.join(dataset_dir, split_dir, \"xray\", out_name))\n",
    "    cv2.imwrite(os.path.join(dataset_dir, split_dir, \"mask\", out_name.replace(\".jpg\", \".png\")), mask)"
   ]
  },
  {
   "cell_type": "code",
   "execution_count": 3,
   "metadata": {},
   "outputs": [
    {
     "name": "stdout",
     "output_type": "stream",
     "text": [
      "Montgomery: 138 138 138\n",
      "138 / 138, 0 / 0"
     ]
    }
   ],
   "source": [
    "montgomery_dir = \"/data/data/NLM-shenzhen-montgomery/NLM-MontgomeryCXRSet/MontgomerySet\"\n",
    "montgomery_files = sorted(get_image_files(os.path.join(montgomery_dir, \"CXR_png\")))\n",
    "montgomery_half_masks = [sorted(get_image_files(os.path.join(montgomery_dir, \"ManualMask\", \"leftMask\"))),\n",
    "                    sorted(get_image_files(os.path.join(montgomery_dir, \"ManualMask\", \"rightMask\")))]\n",
    "print(\"Montgomery:\", len(montgomery_files), len(montgomery_half_masks[0]), len(montgomery_half_masks[1]))\n",
    "\n",
    "# montgomery_train, montgomery_test = train_test_split(montgomery_files, test_size=0.2, random_state=2020)\n",
    "\n",
    "n_train = len(montgomery_files)\n",
    "n_test = 0\n",
    "count_m = {\"train\": 0, \"test\": 0}\n",
    "DILATE_KERNEL = np.ones((7, 7), np.uint8)\n",
    "\n",
    "for (image_file, lmask_file, rmask_file) in zip(*([montgomery_files] + montgomery_half_masks)):\n",
    "    bimage = os.path.basename(image_file)\n",
    "    blmask = os.path.basename(lmask_file)\n",
    "    brmask = os.path.basename(rmask_file)\n",
    "    \n",
    "    if bimage != blmask or blmask != brmask:\n",
    "        print(blmask, brmask)\n",
    "        sys.exit(1)\n",
    "    \n",
    "    left_mask = cv2.imread(str(lmask_file), cv2.IMREAD_GRAYSCALE)\n",
    "    right_mask = cv2.imread(str(rmask_file), cv2.IMREAD_GRAYSCALE)\n",
    "    \n",
    "    mask = np.maximum(left_mask, right_mask)\n",
    "    \n",
    "#     split_dir = \"train\" if image_file in montgomery_train else \"test\"\n",
    "    split_dir = \"train\"\n",
    "    count_m[split_dir] += 1\n",
    "    \n",
    "    save_image(str(image_file), mask, split_dir, f\"montgomery_{bimage}\")\n",
    "    \n",
    "    sys.stdout.write(f\"\\r{count_m['train']} / {n_train}, {count_m['test']} / {n_test}\")"
   ]
  },
  {
   "cell_type": "code",
   "execution_count": 4,
   "metadata": {},
   "outputs": [
    {
     "name": "stdout",
     "output_type": "stream",
     "text": [
      "Shenzhen: 662 566\n",
      "566 / 566, 0 / 0"
     ]
    }
   ],
   "source": [
    "shenzhen_dir = \"/data/data/NLM-shenzhen-montgomery/ChinaSet_AllFiles/\"\n",
    "shenzhen_xray_dir = os.path.join(shenzhen_dir, \"CXR_png\")\n",
    "shenzhen_files = sorted(get_image_files(shenzhen_xray_dir))\n",
    "shenzhen_masks = sorted(get_image_files(os.path.join(shenzhen_dir, \"shcxr-lung-mask\", \"mask\")))\n",
    "print(\"Shenzhen:\", len(shenzhen_files), len(shenzhen_masks))\n",
    "# shenzhen_train, shenzhen_test = train_test_split(shenzhen_masks, test_size=0.2, random_state=2019)\n",
    "\n",
    "n_train = len(shenzhen_masks)\n",
    "n_test = 0\n",
    "count_s = {\"train\": 0, \"test\": 0}\n",
    "DILATE_KERNEL = np.ones((15, 15), np.uint8)\n",
    "\n",
    "shenzhen_pattern = re.compile(r\"(.*)_mask(.*)\")\n",
    "\n",
    "for mask_file in shenzhen_masks:\n",
    "    bmask = os.path.basename(mask_file)\n",
    "    m = shenzhen_pattern.match(bmask)\n",
    "    bimage = \"{}{}\".format(m.group(1), m.group(2))\n",
    "    xray_file = os.path.join(shenzhen_xray_dir, bimage)\n",
    "    \n",
    "    if not os.path.exists(xray_file):\n",
    "        print(xray_file)\n",
    "        sys.exit(1)\n",
    "    \n",
    "    mask = cv2.imread(str(mask_file), cv2.IMREAD_GRAYSCALE)\n",
    "    \n",
    "#     split_dir = \"train\" if mask_file in shenzhen_train else \"test\"\n",
    "    split_dir = \"train\"\n",
    "    count_s[split_dir] += 1\n",
    "    \n",
    "    save_image(str(xray_file), mask, split_dir, f\"shenzhen_{bimage}\")\n",
    "    \n",
    "    sys.stdout.write(f\"\\r{count_s['train']} / {n_train}, {count_s['test']} / {n_test}\")"
   ]
  }
 ],
 "metadata": {
  "kernelspec": {
   "display_name": "Python 3",
   "language": "python",
   "name": "python3"
  },
  "language_info": {
   "codemirror_mode": {
    "name": "ipython",
    "version": 3
   },
   "file_extension": ".py",
   "mimetype": "text/x-python",
   "name": "python",
   "nbconvert_exporter": "python",
   "pygments_lexer": "ipython3",
   "version": "3.6.9"
  }
 },
 "nbformat": 4,
 "nbformat_minor": 4
}
